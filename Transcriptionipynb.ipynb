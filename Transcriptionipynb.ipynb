{
  "nbformat": 4,
  "nbformat_minor": 0,
  "metadata": {
    "colab": {
      "provenance": [],
      "gpuType": "T4"
    },
    "kernelspec": {
      "name": "python3",
      "display_name": "Python 3"
    },
    "language_info": {
      "name": "python"
    },
    "accelerator": "GPU"
  },
  "cells": [
    {
      "cell_type": "code",
      "execution_count": 2,
      "metadata": {
        "colab": {
          "base_uri": "https://localhost:8080/"
        },
        "id": "_nkN5CL9FlMr",
        "outputId": "a1ae2924-6b43-40c1-deeb-d4b06eb502d8"
      },
      "outputs": [
        {
          "output_type": "stream",
          "name": "stdout",
          "text": [
            "Collecting git+https://github.com/openai/whisper.git\n",
            "  Cloning https://github.com/openai/whisper.git to /tmp/pip-req-build-wgy0k4et\n",
            "  Running command git clone --filter=blob:none --quiet https://github.com/openai/whisper.git /tmp/pip-req-build-wgy0k4et\n",
            "  Resolved https://github.com/openai/whisper.git to commit ba3f3cd54b0e5b8ce1ab3de13e32122d0d5f98ab\n",
            "  Installing build dependencies ... \u001b[?25l\u001b[?25hdone\n",
            "  Getting requirements to build wheel ... \u001b[?25l\u001b[?25hdone\n",
            "  Preparing metadata (pyproject.toml) ... \u001b[?25l\u001b[?25hdone\n",
            "Requirement already satisfied: numba in /usr/local/lib/python3.10/dist-packages (from openai-whisper==20231117) (0.58.1)\n",
            "Requirement already satisfied: numpy in /usr/local/lib/python3.10/dist-packages (from openai-whisper==20231117) (1.25.2)\n",
            "Requirement already satisfied: torch in /usr/local/lib/python3.10/dist-packages (from openai-whisper==20231117) (2.1.0+cu121)\n",
            "Requirement already satisfied: tqdm in /usr/local/lib/python3.10/dist-packages (from openai-whisper==20231117) (4.66.2)\n",
            "Requirement already satisfied: more-itertools in /usr/local/lib/python3.10/dist-packages (from openai-whisper==20231117) (10.1.0)\n",
            "Collecting tiktoken (from openai-whisper==20231117)\n",
            "  Downloading tiktoken-0.6.0-cp310-cp310-manylinux_2_17_x86_64.manylinux2014_x86_64.whl (1.8 MB)\n",
            "\u001b[2K     \u001b[90m━━━━━━━━━━━━━━━━━━━━━━━━━━━━━━━━━━━━━━━━\u001b[0m \u001b[32m1.8/1.8 MB\u001b[0m \u001b[31m31.0 MB/s\u001b[0m eta \u001b[36m0:00:00\u001b[0m\n",
            "\u001b[?25hRequirement already satisfied: triton<3,>=2.0.0 in /usr/local/lib/python3.10/dist-packages (from openai-whisper==20231117) (2.1.0)\n",
            "Requirement already satisfied: filelock in /usr/local/lib/python3.10/dist-packages (from triton<3,>=2.0.0->openai-whisper==20231117) (3.13.1)\n",
            "Requirement already satisfied: llvmlite<0.42,>=0.41.0dev0 in /usr/local/lib/python3.10/dist-packages (from numba->openai-whisper==20231117) (0.41.1)\n",
            "Requirement already satisfied: regex>=2022.1.18 in /usr/local/lib/python3.10/dist-packages (from tiktoken->openai-whisper==20231117) (2023.12.25)\n",
            "Requirement already satisfied: requests>=2.26.0 in /usr/local/lib/python3.10/dist-packages (from tiktoken->openai-whisper==20231117) (2.31.0)\n",
            "Requirement already satisfied: typing-extensions in /usr/local/lib/python3.10/dist-packages (from torch->openai-whisper==20231117) (4.9.0)\n",
            "Requirement already satisfied: sympy in /usr/local/lib/python3.10/dist-packages (from torch->openai-whisper==20231117) (1.12)\n",
            "Requirement already satisfied: networkx in /usr/local/lib/python3.10/dist-packages (from torch->openai-whisper==20231117) (3.2.1)\n",
            "Requirement already satisfied: jinja2 in /usr/local/lib/python3.10/dist-packages (from torch->openai-whisper==20231117) (3.1.3)\n",
            "Requirement already satisfied: fsspec in /usr/local/lib/python3.10/dist-packages (from torch->openai-whisper==20231117) (2023.6.0)\n",
            "Requirement already satisfied: charset-normalizer<4,>=2 in /usr/local/lib/python3.10/dist-packages (from requests>=2.26.0->tiktoken->openai-whisper==20231117) (3.3.2)\n",
            "Requirement already satisfied: idna<4,>=2.5 in /usr/local/lib/python3.10/dist-packages (from requests>=2.26.0->tiktoken->openai-whisper==20231117) (3.6)\n",
            "Requirement already satisfied: urllib3<3,>=1.21.1 in /usr/local/lib/python3.10/dist-packages (from requests>=2.26.0->tiktoken->openai-whisper==20231117) (2.0.7)\n",
            "Requirement already satisfied: certifi>=2017.4.17 in /usr/local/lib/python3.10/dist-packages (from requests>=2.26.0->tiktoken->openai-whisper==20231117) (2024.2.2)\n",
            "Requirement already satisfied: MarkupSafe>=2.0 in /usr/local/lib/python3.10/dist-packages (from jinja2->torch->openai-whisper==20231117) (2.1.5)\n",
            "Requirement already satisfied: mpmath>=0.19 in /usr/local/lib/python3.10/dist-packages (from sympy->torch->openai-whisper==20231117) (1.3.0)\n",
            "Building wheels for collected packages: openai-whisper\n",
            "  Building wheel for openai-whisper (pyproject.toml) ... \u001b[?25l\u001b[?25hdone\n",
            "  Created wheel for openai-whisper: filename=openai_whisper-20231117-py3-none-any.whl size=802825 sha256=e55aa25c83870453b2f72b9353e590abc958093c359619d03fcc136530289167\n",
            "  Stored in directory: /tmp/pip-ephem-wheel-cache-upyq4wf2/wheels/8b/6c/d0/622666868c179f156cf595c8b6f06f88bc5d80c4b31dccaa03\n",
            "Successfully built openai-whisper\n",
            "Installing collected packages: tiktoken, openai-whisper\n",
            "Successfully installed openai-whisper-20231117 tiktoken-0.6.0\n"
          ]
        }
      ],
      "source": [
        "!pip install git+https://github.com/openai/whisper.git"
      ]
    },
    {
      "cell_type": "code",
      "source": [
        "!sudo apt update && sudo apt install ffmpeg"
      ],
      "metadata": {
        "colab": {
          "base_uri": "https://localhost:8080/"
        },
        "id": "swsMEH6UFpVW",
        "outputId": "dd660879-5378-4ffb-82d3-bec569357a10"
      },
      "execution_count": 3,
      "outputs": [
        {
          "output_type": "stream",
          "name": "stdout",
          "text": [
            "\u001b[33m\r0% [Working]\u001b[0m\r            \rGet:1 https://cloud.r-project.org/bin/linux/ubuntu jammy-cran40/ InRelease [3,626 B]\n",
            "Hit:2 https://developer.download.nvidia.com/compute/cuda/repos/ubuntu2204/x86_64  InRelease\n",
            "Get:3 http://security.ubuntu.com/ubuntu jammy-security InRelease [110 kB]\n",
            "Hit:4 http://archive.ubuntu.com/ubuntu jammy InRelease\n",
            "Get:5 http://archive.ubuntu.com/ubuntu jammy-updates InRelease [119 kB]\n",
            "Hit:6 https://ppa.launchpadcontent.net/c2d4u.team/c2d4u4.0+/ubuntu jammy InRelease\n",
            "Hit:7 https://ppa.launchpadcontent.net/deadsnakes/ppa/ubuntu jammy InRelease\n",
            "Get:8 https://ppa.launchpadcontent.net/graphics-drivers/ppa/ubuntu jammy InRelease [24.3 kB]\n",
            "Hit:9 https://ppa.launchpadcontent.net/ubuntugis/ppa/ubuntu jammy InRelease\n",
            "Get:10 http://security.ubuntu.com/ubuntu jammy-security/universe amd64 Packages [1,074 kB]\n",
            "Get:11 https://ppa.launchpadcontent.net/graphics-drivers/ppa/ubuntu jammy/main amd64 Packages [44.7 kB]\n",
            "Hit:12 http://archive.ubuntu.com/ubuntu jammy-backports InRelease\n",
            "Get:13 http://archive.ubuntu.com/ubuntu jammy-updates/universe amd64 Packages [1,346 kB]\n",
            "Get:14 http://security.ubuntu.com/ubuntu jammy-security/main amd64 Packages [1,514 kB]\n",
            "Get:15 http://archive.ubuntu.com/ubuntu jammy-updates/restricted amd64 Packages [1,927 kB]\n",
            "Get:16 http://security.ubuntu.com/ubuntu jammy-security/multiverse amd64 Packages [44.6 kB]\n",
            "Get:17 http://security.ubuntu.com/ubuntu jammy-security/restricted amd64 Packages [1,889 kB]\n",
            "Get:18 http://archive.ubuntu.com/ubuntu jammy-updates/main amd64 Packages [1,796 kB]\n",
            "Fetched 9,893 kB in 4s (2,292 kB/s)\n",
            "Reading package lists... Done\n",
            "Building dependency tree... Done\n",
            "Reading state information... Done\n",
            "40 packages can be upgraded. Run 'apt list --upgradable' to see them.\n",
            "Reading package lists... Done\n",
            "Building dependency tree... Done\n",
            "Reading state information... Done\n",
            "ffmpeg is already the newest version (7:4.4.2-0ubuntu0.22.04.1).\n",
            "0 upgraded, 0 newly installed, 0 to remove and 40 not upgraded.\n"
          ]
        }
      ]
    },
    {
      "cell_type": "code",
      "source": [
        "!whisper \"MGG.mp3\" --model medium"
      ],
      "metadata": {
        "colab": {
          "base_uri": "https://localhost:8080/"
        },
        "id": "EOKY8FNUF0Oa",
        "outputId": "51b1673a-ace5-46de-ced2-9b33227dc55b"
      },
      "execution_count": 5,
      "outputs": [
        {
          "output_type": "stream",
          "name": "stdout",
          "text": [
            "Detecting language using up to the first 30 seconds. Use `--language` to specify the language\n",
            "Detected language: Tamil\n",
            "[00:00.000 --> 00:05.000]  ஜா஫ர் சாதிக் இந்த ஒரு பெயர் தான் இன்று தமிழ்நாட்டில் அதிகமா பேசா படுடிட்டு இருக்குது\n",
            "[00:05.000 --> 00:09.000]  இவர் யார் என்று கேட்டிங்கனால் ஒரு real life Rolex அப்படியும் கூட சொல்லிடலாம்\n",
            "[00:09.000 --> 00:13.000]  எப்படி cinemaல rolex வந்து ஒரு மிக பெரிய drug cartel நடத்திட்டு இருப்பானோ\n",
            "[00:13.000 --> 00:17.000]  அந்த மாதிரி real lifeல நம்ம சென்னையில இருந்துகொண்டு\n",
            "[00:18.000 --> 00:22.000]  ஜா஫ர் சாதிக் அப்படின்னு சொல்லப்பட்டு இருவரும்\n",
            "[00:22.000 --> 00:25.000]  ஏகப்பட்ட இடத்தில் அவருக்குத் தேவையான எல்லாக்கான\n",
            "[00:25.000 --> 00:27.000]  பிரச்சினையில் இருக்கும் பிரச்சினையில் இருக்கும்\n",
            "[00:27.000 --> 00:29.000]  அமரிகாவுடைய D.E.A. இருப்பாங்கள்ல\n",
            "[00:29.000 --> 00:32.000]  அந்த பாப்பிலோ ஏஸ்கோபார் எல்லாம் பிடிச்சு ஒரு அமைப்பு இருக்குள்ளா\n",
            "[00:33.000 --> 00:36.000]  ஜா஫ர் சாதிக் அப்படின்னு சொல்லப்பட்டு இருவரும்\n",
            "[00:36.000 --> 00:39.000]  ஏகப்பட்ட இடத்தில் அவருக்குத் தேவையான எல்லாக் கணக்ஷனை\n",
            "[00:39.000 --> 00:41.000]  நிறைய பேர ஏமாற்றி வைத்துக்கொண்டு\n",
            "[00:41.000 --> 00:43.000]  ஏகப்பட்ட வேலைகளை பின்னாடி செஞ்சிருக்கார்\n",
            "[00:43.000 --> 00:45.000]  என்ன இப்போது நம்முள்ளுக்கு தெரியா வந்து இருக்குறது\n",
            "[00:46.000 --> 00:49.000]  ஜா஫ர் சாதிக் யாரு, எப்படி இவரும் மாட்டியிருக்கார்\n",
            "[00:49.000 --> 00:52.000]  இவர் இந்த டெல்லியில் மூன்று தமிழர்கள் மாட்டியிருக்கார்கள்\n",
            "[00:52.000 --> 00:54.000]  ஒரு இரண்ணு மூன்று நாட்கள்\n",
            "[00:54.000 --> 00:55.000]  மொத்த கதையும் சொல்ல ஆரம்பிக்கிறேன்\n",
            "[00:55.000 --> 00:57.000]  அப்போது எல்லாவற்றையும் எப்போதும் சொல்லட்டேன்\n",
            "[00:57.000 --> 00:59.000]  ஜா஫ர் சாதிக் யாரு, எப்படி இவரும் மாட்டியிருக்கார்\n",
            "[00:59.000 --> 01:01.000]  இவருக்கூட இருந்தால் இன்னும் இரண்டு பேரு யாரு\n",
            "[01:01.000 --> 01:02.000]  எங்கே இவரும் அப்ஸ்காண்டா இருக்கார்கள்\n",
            "[01:02.000 --> 01:04.000]  இவருக்கூட இருந்தால் இன்னும் இரண்டு பேரு யாரு\n",
            "[01:04.000 --> 01:06.000]  இந்த டெல்லியில் மூன்று தமிழர்கள் மாட்டியிருக்கார்கள்\n",
            "[01:06.000 --> 01:08.000]  ஜா஫ர் சாதிக்\n",
            "[01:36.000 --> 01:38.000]  ஜா஫ர் சாதிக்\n",
            "[02:06.000 --> 02:08.000]  ஜா஫ர் சாதிக்\n"
          ]
        }
      ]
    },
    {
      "cell_type": "code",
      "source": [],
      "metadata": {
        "id": "-F-8bx8T-QNQ"
      },
      "execution_count": null,
      "outputs": []
    }
  ]
}